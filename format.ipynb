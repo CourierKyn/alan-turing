{
 "cells": [
  {
   "cell_type": "code",
   "execution_count": 1,
   "metadata": {},
   "outputs": [],
   "source": [
    "import pandas as pd"
   ]
  },
  {
   "cell_type": "code",
   "execution_count": 2,
   "metadata": {},
   "outputs": [],
   "source": [
    "df = pd.DataFrame(columns=['Q','A'])"
   ]
  },
  {
   "cell_type": "code",
   "execution_count": 4,
   "metadata": {},
   "outputs": [],
   "source": [
    "df.Q = ['获得积分','积分作用','还款时间','最低还款','5.\t信用卡多久能申请成功'\n",
    "       ,'信用卡申请填写问题','注销','挂失','挂失手续费','查询办卡进度',\n",
    "        '拿到卡后怎么激活','信用卡被拒绝','信用卡初始额度',\n",
    "        '能够超过额度刷卡吗','提升信用卡的额度','一笔刷空额度','信用卡挂失了仍需要还款',\n",
    "       '逾期','逾期3天','逾期30天','逾期90天','逾期超过90天','逾期 3 天，30 天，90 天有区别吗？逾期后又该怎么应对'\n",
    "        ,'挂失后发生的盗刷损失由银行负责','外借信用卡','被盗刷','长期不用卡',\n",
    "       '长期在同一个商户消费','信用卡长期刷爆','可以申请多少张信用卡',\n",
    "       '还款利息']"
   ]
  },
  {
   "cell_type": "code",
   "execution_count": 6,
   "metadata": {},
   "outputs": [],
   "source": [
    "df.loc[0,'A'] = ''' 每消费一港币，将会获得一积分哦'''"
   ]
  },
  {
   "cell_type": "code",
   "execution_count": 7,
   "metadata": {},
   "outputs": [],
   "source": [
    "df.loc[1,'A'] = '''积分可以在积分商城兑换商品哦'''"
   ]
  },
  {
   "cell_type": "code",
   "execution_count": 8,
   "metadata": {},
   "outputs": [],
   "source": [
    "df.loc[2,'A'] = '''每个月的第九天还款，可以选择最低还款，剩余的金额按 0.05% 日利率收取利息'''"
   ]
  },
  {
   "cell_type": "code",
   "execution_count": null,
   "metadata": {},
   "outputs": [],
   "source": [
    "df.loc[3,'A'] = ''' 用户可以使用最低还款，剩余的金额按 0.05% 日利率收取利息\n",
    "5.  '''"
   ]
  },
  {
   "cell_type": "code",
   "execution_count": null,
   "metadata": {},
   "outputs": [],
   "source": [
    "df.loc[4,'A'] = ''' 五个工作日内会通知是否申请成功，成功后会邮寄信用卡至您的地址  '''"
   ]
  },
  {
   "cell_type": "code",
   "execution_count": null,
   "metadata": {},
   "outputs": [],
   "source": [
    "df.loc[5,'A'] = ''' 详细见申请页面  '''"
   ]
  },
  {
   "cell_type": "code",
   "execution_count": null,
   "metadata": {},
   "outputs": [],
   "source": [
    "df.loc[6,'A'] = '''  信用卡可以注销，注销后将无法恢复 '''"
   ]
  },
  {
   "cell_type": "code",
   "execution_count": null,
   "metadata": {},
   "outputs": [],
   "source": [
    "df.loc[7,'A'] = ''' 信用卡挂失后将无法正常使用，直到取消挂失，补办新卡后，旧卡将失去所有功能  '''"
   ]
  },
  {
   "cell_type": "code",
   "execution_count": null,
   "metadata": {},
   "outputs": [],
   "source": [
    "df.loc[8,'A'] = '''  挂失不需要收取手续费哦 '''"
   ]
  },
  {
   "cell_type": "code",
   "execution_count": null,
   "metadata": {},
   "outputs": [],
   "source": [
    "df.loc[9,'A'] = ''' 查询方式比较多，可以通过电话. 银行官网. 银行徽信等地方查询。一般通过网络申请的可以马上查询到申请进度，线下人工提交的申请，可能要等几天，等信息录入系统后才可以查询到记录。  '''"
   ]
  },
  {
   "cell_type": "code",
   "execution_count": null,
   "metadata": {},
   "outputs": [],
   "source": [
    "df.loc[10,'A'] = ''' 通过人工申请的信用卡，收到卡后可以通过电话、短信、网络等方式直接激活。\n",
    "如果是通过网络申请的某银行首卡，就必须要带着身份证、信用卡、开卡函去网点激活。  '''"
   ]
  },
  {
   "cell_type": "code",
   "execution_count": null,
   "metadata": {},
   "outputs": [],
   "source": [
    "df.loc[11,'A'] = ''' 1. 快点去看你的信用报告\n",
    "2. 把你的信用评级搞好\n",
    "3. 看好申请信用卡的最低月薪申请条件\n",
    "4. 重新查看你的申请表格\n",
    "5. 建立好你的信贷评估分  '''"
   ]
  },
  {
   "cell_type": "code",
   "execution_count": null,
   "metadata": {},
   "outputs": [],
   "source": [
    "df.loc[12,'A'] = ''' 当你申请完信用卡，被批准之后，一般就能从电话中查到你这张信用卡的额度了。最初的信用卡额度和你当前的信用分数以及信用报告有关。一般信用分数越高，信用报告中负面因素越少，收入越高，信用额度就越高。  '''"
   ]
  },
  {
   "cell_type": "code",
   "execution_count": null,
   "metadata": {},
   "outputs": [],
   "source": [
    "df.loc[13,'A'] = ''' 不可以，卡刷爆之后将无法正常支付  '''"
   ]
  },
  {
   "cell_type": "code",
   "execution_count": null,
   "metadata": {},
   "outputs": [],
   "source": [
    "df.loc[14,'A'] = ''' 信用卡的额度并不是一成不变的，额度会随着你的信用情况和使用情况变化。一般来说，额度都是随着持卡年限增加以及正常使用的次数不断增加。  '''"
   ]
  },
  {
   "cell_type": "code",
   "execution_count": null,
   "metadata": {},
   "outputs": [],
   "source": [
    "df.loc[15,'A'] = ''' 一笔刷空所有额度，这对于信用卡来说绝对是大忌。因为这样给银行造成了一种不好的印象，怀疑太不稳定，如果实在有大额需求，可以打电话跟信用卡中心申请，保持良好的习惯。  '''"
   ]
  },
  {
   "cell_type": "code",
   "execution_count": null,
   "metadata": {},
   "outputs": [],
   "source": [
    "df.loc[16,'A'] = ''' 信用卡挂失了，如果这时候到了到期还款日，仍需要往信用卡里还款，挂失状态下不影响还款。千万不要忘记还款哦，否则产生了逾期可是会影响你的个人信用记录的。  '''"
   ]
  },
  {
   "cell_type": "code",
   "execution_count": null,
   "metadata": {},
   "outputs": [],
   "source": [
    "df.loc[17,'A'] = ''' 　一般银行对于还款都有一个宽限期，这个宽限期可能会在还款日之后 1-3 天，如果在这个期间还款，银行是不会认为你逾期的，同样也不会影响征信。  '''"
   ]
  },
  {
   "cell_type": "code",
   "execution_count": null,
   "metadata": {},
   "outputs": [],
   "source": [
    "df.loc[18,'A'] = '''  一般银行都会有容时服务，所以还款日后的 3 天内的非刻意逾期一般是不会被视为逾期的，但是为了保险起见，如果不小心没有及时还款，还是需要致电发卡行客服确认情况。\n",
    "容时服务：即为持卡人提供一定期限的还款宽限期服务，还款宽限期自到期还款日起至少 3 天；持卡人在还款宽限期内还款时，应当视同持卡人按时还款。 '''"
   ]
  },
  {
   "cell_type": "code",
   "execution_count": null,
   "metadata": {},
   "outputs": [],
   "source": [
    "df.loc[19,'A'] = '''  逾期 30 天后一般已经被报上了央行，此时你的征信报告中的信用卡一栏就会被记入 “1”\n",
    "当逾期天数接近 30 天时，应该致电发卡行客服确认是否已经上报央行，如果没有上报的话可以向银行说明情况并还清欠款，不过要想说服银行，最好交出非恶意逾期的证据，比如还款月内出差凭证。 '''"
   ]
  },
  {
   "cell_type": "code",
   "execution_count": null,
   "metadata": {},
   "outputs": [],
   "source": [
    "df.loc[20,'A'] = '''  连续逾期 90 天一般会被视为恶意逾期，下面是卡 6 总结出的 3 种情况及处理方法：\n",
    "　　① 年费逾期：可与银行协商；\n",
    "　　② 被盗刷：及时报案并向银行反馈情况，这已经上升到刑事案件；\n",
    "　　③ 没钱：没办法，以后只能乖乖用卡，按时还款，用新的记录去覆盖不良记录。 '''"
   ]
  },
  {
   "cell_type": "code",
   "execution_count": null,
   "metadata": {},
   "outputs": [],
   "source": [
    "df.loc[21,'A'] = '''  如果逾期超过 90 天，那么面临的后果将会是：\n",
    "① 征信污点\n",
    "　　大家都知道，征信对于我们每个人来说都是非常重要的，只要个人与银行还有往来，那征信报告就会决定你是否能够在银行成功办理业务，比如贷款前，银行会查阅你的征信报告，如果连续逾期 3 个月以上，一般都会被驳回。\n",
    "② 高额罚息\n",
    "　　如果被判定为恶意逾期，银行不但会收取高额的罚息，还会收取一定违约金。\n",
    "③ 被银行起诉\n",
    "　　如果多次催收后还是拒不还款，那银行很可能就会对逾期者进行起诉。 '''"
   ]
  },
  {
   "cell_type": "code",
   "execution_count": null,
   "metadata": {},
   "outputs": [],
   "source": [
    "df.loc[22,'A'] = ''' 超长时间逾期将可能会形成呆账，在征信报告中，呆账是一种比逾期还要严重的表现，呆账记录自结清日算起，会被保留 5 年。所以，如果征信报告上出现呆账，那基本就与贷款无缘了。\n",
    "　　呆账：是指已过偿付期限，经催讨尚不能收回，长期处于呆滞状态，有可能成为坏账的应收款项。呆账是未能及时进行清账的结果，又指因对方不还而收不回来的财物。  '''"
   ]
  },
  {
   "cell_type": "code",
   "execution_count": null,
   "metadata": {},
   "outputs": [],
   "source": [
    "df.loc[23,'A'] = ''' 1、 逾期 3 天\n",
    "　　一般银行都会有容时服务，所以还款日后的 3 天内的非刻意逾期一般是不会被视为逾期的，但是为了保险起见，如果不小心没有及时还款，还是需要致电发卡行客服确认情况。\n",
    "容时服务：即为持卡人提供一定期限的还款宽限期服务，还款宽限期自到期还款日起至少 3 天；持卡人在还款宽限期内还款时，应当视同持卡人按时还款。\n",
    "2、 逾期 30 天\n",
    "　逾期 30 天后一般已经被报上了央行，此时你的征信报告中的信用卡一栏就会被记入 “1”，\n",
    "逾期天数接近 30 天时，应该致电发卡行客服确认是否已经上报央行，如果没有上报的话可以向银行说明情况并还清欠款，不过要想说服银行，最好交出非恶意逾期的证据，比如还款月内出差凭证。\n",
    "3、 逾期 90 天\n",
    "　　连续逾期 90 天一般会被视为恶意逾期，下面是卡 6 总结出的 3 种情况及处理方法：\n",
    "　　① 年费逾期：可与银行协商；\n",
    "　　② 被盗刷：及时报案并向银行反馈情况，这已经上升到刑事案件；\n",
    "　　③ 没钱：没办法，以后只能乖乖用卡，按时还款，用新的记录去覆盖不良记录。\n",
    "　　下面是上征信后的征信报告：\n",
    "4、 逾期超过 90 天\n",
    "　　如果逾期超过 90 天，那么面临的后果将会是：\n",
    "① 征信污点\n",
    "　　大家都知道，征信对于我们每个人来说都是非常重要的，只要个人与银行还有往来，那征信报告就会决定你是否能够在银行成功办理业务，比如贷款前，银行会查阅你的征信报告，如果连续逾期 3 个月以上，一般都会被驳回。\n",
    "② 高额罚息\n",
    "　　如果被判定为恶意逾期，银行不但会收取高额的罚息，还会收取一定违约金。\n",
    "③ 被银行起诉\n",
    "　　如果多次催收后还是拒不还款，那银行很可能就会对逾期者进行起诉。\n",
    "5、 逾期超过 2 年\n",
    "　　超长时间逾期将可能会形成呆账，在征信报告中，呆账是一种比逾期还要严重的表现，呆账记录自结清日算起，会被保留 5 年。所以，如果征信报告上出现呆账，那基本就与贷款无缘了。\n",
    "　　呆账：是指已过偿付期限，经催讨尚不能收回，长期处于呆滞状态，有可能成为坏账的应收款项。呆账是未能及时进行清账的结果，又指因对方不还而收不回来的财物。  '''"
   ]
  },
  {
   "cell_type": "code",
   "execution_count": null,
   "metadata": {},
   "outputs": [],
   "source": [
    "df.loc[24,'A'] = ''' 各我们的信用卡有失卡保障服务，保障信用卡挂失前后一段时间的盗刷损失。只要信用卡及时挂失了，挂失后的盗刷损失将由银行来承担。  '''"
   ]
  },
  {
   "cell_type": "code",
   "execution_count": null,
   "metadata": {},
   "outputs": [],
   "source": [
    "df.loc[25,'A'] = '''   '''"
   ]
  },
  {
   "cell_type": "code",
   "execution_count": null,
   "metadata": {},
   "outputs": [],
   "source": [
    "df.loc[26,'A'] = '''   '''"
   ]
  },
  {
   "cell_type": "code",
   "execution_count": null,
   "metadata": {},
   "outputs": [],
   "source": [
    "df.loc[27,'A'] = '''   '''"
   ]
  },
  {
   "cell_type": "code",
   "execution_count": null,
   "metadata": {},
   "outputs": [],
   "source": [
    "df.loc[28,'A'] = '''   '''"
   ]
  },
  {
   "cell_type": "code",
   "execution_count": null,
   "metadata": {},
   "outputs": [],
   "source": [
    "df.loc[29,'A'] = '''   '''"
   ]
  },
  {
   "cell_type": "code",
   "execution_count": null,
   "metadata": {},
   "outputs": [],
   "source": [
    "df.loc[30,'A'] = '''   '''"
   ]
  },
  {
   "cell_type": "code",
   "execution_count": null,
   "metadata": {},
   "outputs": [],
   "source": [
    "df.loc[31,'A'] = '''   '''"
   ]
  },
  {
   "cell_type": "code",
   "execution_count": null,
   "metadata": {},
   "outputs": [],
   "source": []
  },
  {
   "cell_type": "code",
   "execution_count": null,
   "metadata": {},
   "outputs": [],
   "source": []
  },
  {
   "cell_type": "code",
   "execution_count": null,
   "metadata": {},
   "outputs": [],
   "source": []
  },
  {
   "cell_type": "code",
   "execution_count": 10,
   "metadata": {},
   "outputs": [],
   "source": [
    "df.to_csv('Q_and_A.csv',index=False)"
   ]
  },
  {
   "cell_type": "code",
   "execution_count": null,
   "metadata": {},
   "outputs": [],
   "source": []
  }
 ],
 "metadata": {
  "kernelspec": {
   "display_name": "Python 3",
   "language": "python",
   "name": "python3"
  },
  "language_info": {
   "codemirror_mode": {
    "name": "ipython",
    "version": 3
   },
   "file_extension": ".py",
   "mimetype": "text/x-python",
   "name": "python",
   "nbconvert_exporter": "python",
   "pygments_lexer": "ipython3",
   "version": "3.7.1"
  }
 },
 "nbformat": 4,
 "nbformat_minor": 2
}
